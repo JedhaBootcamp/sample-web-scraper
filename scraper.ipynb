{
 "cells": [
  {
   "cell_type": "code",
   "execution_count": 34,
   "metadata": {},
   "outputs": [
    {
     "name": "stdout",
     "output_type": "stream",
     "text": [
      "['Les 7 métiers de la Cybersécurité qui recrutent', 'Les 12 métiers de la Data à connaître en 2024', 'Data Science : définition, applications et technologies']\n"
     ]
    }
   ],
   "source": [
    "import requests\n",
    "from bs4 import BeautifulSoup\n",
    "from datetime import datetime \n",
    "from lxml import html \n",
    "\n",
    "url=\"https://www.jedha.co/blog\"\n",
    "\n",
    "response = requests.get(url)\n",
    "soup = BeautifulSoup(response.text, \"html.parser\")\n",
    "\n",
    "tree = html.fromstring(response.content)\n",
    "\n",
    "# Latest posts are at: /html/body/div[2]/div/div[2]/div\n",
    "content= tree.xpath(\"/html/body/div[2]/div/div[2]\")\n",
    "\n",
    "extract_content=[]\n",
    "for title in content: \n",
    "    title_list=title.xpath(\".//*[contains(@class, 'h6')]\")    \n",
    "    parsed_titles=[title.text_content() for title in title_list]\n",
    "\n",
    "print(parsed_titles)"
   ]
  }
 ],
 "metadata": {
  "kernelspec": {
   "display_name": "Python 3 (ipykernel)",
   "language": "python",
   "name": "python3"
  },
  "language_info": {
   "codemirror_mode": {
    "name": "ipython",
    "version": 3
   },
   "file_extension": ".py",
   "mimetype": "text/x-python",
   "name": "python",
   "nbconvert_exporter": "python",
   "pygments_lexer": "ipython3",
   "version": "3.12.4"
  }
 },
 "nbformat": 4,
 "nbformat_minor": 2
}
